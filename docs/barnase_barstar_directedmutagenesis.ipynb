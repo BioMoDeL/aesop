{
 "cells": [
  {
   "cell_type": "markdown",
   "metadata": {},
   "source": [
    "# Barnase-Barstar Directed Mutagenesis Interactive Plotting Demo"
   ]
  },
  {
   "cell_type": "markdown",
   "metadata": {},
   "source": [
    "This notebook showcases some of the interactive plotting functions `plotScan_interactive` and `plotNetwork_interactive` in AESOP using the [Barnase-Barstar Directed Mutagenesis example](https://aesop.readthedocs.io/en/latest/directmutagenesis.html#example-case-barnase-barstar).The sample code below imports the relevant classes and functions to perform user specified mutations and output the electrostatic analysis results using interactive plots.\n",
    "\n",
    "Before proceeding, make sure you have the python packages `plotly` and `networkx` installed as described in the [documentation](https://aesop.readthedocs.io/en/latest/installation.html)."
   ]
  },
  {
   "cell_type": "code",
   "execution_count": 1,
   "metadata": {
    "collapsed": false
   },
   "outputs": [],
   "source": [
    "from aesop import DirectedMutagenesis, plotScan_interactive, plotNetwork_interactive\n",
    "\n",
    "path_apbs    = 'path\\to\\executable\\apbs'\n",
    "path_coulomb = 'path\\to\\executable\\coulomb'\n",
    "path_pdb2pqr = 'path\\to\\executable\\pdb2pqr'\n",
    "\n",
    "jobname = 'directedscan'\n",
    "pdbfile = 'barnase_barstar.pdb'\n",
    "\n",
    "selstr = ['chain A', 'chain B']\n",
    "\n",
    "target = ['resnum 27',  'resnum 73',  'resnum 83',  'resnum 87',  # mutations in chain A\n",
    "          'resnum 145', 'resnum 149', 'resnum 164', 'resnum 186'] # mutations in chain B\n",
    "\n",
    "mutation = ['ASP', 'LYS', 'GLU', 'GLU', # mutations in chain A\n",
    "            'ARG', 'ARG', 'ASP', 'LYS'] # mutations in chain B\n",
    "\n",
    "mutscan = DirectedMutagenesis(pdb=pdbfile,\n",
    "                              pdb2pqr_exe=path_pdb2pqr,\n",
    "                              apbs_exe=path_apbs,\n",
    "                              coulomb_exe=path_coulomb,\n",
    "                              jobname=jobname,\n",
    "                              selstr=selstr,\n",
    "                              target=target,\n",
    "                              mutation=mutation,\n",
    "                              minim=True)\n",
    "mutscan.run()"
   ]
  },
  {
   "cell_type": "markdown",
   "metadata": {},
   "source": [
    "Once DirectedMutagenesis is instantiated and finished running, we can plot the results. The `plotScan_interactive` function by default, outputs the results in an html file and opens it up in your browser. However, if you are using a [notebook](https://jupyter.org/) to view it, you can display the plot inline by passing the argument `display_output='notebook'` to the function. Here we display it in the notebook so that it's easier to view alongside the code."
   ]
  },
  {
   "cell_type": "code",
   "execution_count": 2,
   "metadata": {
    "collapsed": false
   },
   "outputs": [
    {
     "name": "stdout",
     "output_type": "stream",
     "text": [
      "This is the format of your plot grid:\n",
      "[ (1,1) x1,y1 ]\n",
      "[ (2,1) x2,y2 ]\n",
      "\n"
     ]
    },
    {
     "data": {
      "text/html": [
       "<script>requirejs.config({paths: { 'plotly': ['https://cdn.plot.ly/plotly-latest.min']},});if(!window.Plotly) {{require(['plotly'],function(plotly) {window.Plotly=plotly;});}}</script>"
      ],
      "text/plain": [
       "<IPython.core.display.HTML object>"
      ]
     },
     "metadata": {},
     "output_type": "display_data"
    },
    {
     "data": {
      "text/html": [
       "<div id=\"446dd89d-4ea2-4aec-a76d-fac7eb6498cf\" style=\"height: 525px; width: 100%;\" class=\"plotly-graph-div\"></div><script type=\"text/javascript\">require([\"plotly\"], function(Plotly) { window.PLOTLYENV=window.PLOTLYENV || {};window.PLOTLYENV.BASE_URL=\"https://plot.ly\";Plotly.newPlot(\"446dd89d-4ea2-4aec-a76d-fac7eb6498cf\", [{\"name\": \"sel2Loss of binding\", \"yaxis\": \"y2\", \"marker\": {\"color\": \"rgba(0,136,55,1)\"}, \"xaxis\": \"x2\", \"y\": [36.60581083650368, 22.389985668501595, 0.0, 9.614589328502461], \"x\": [\"D145R\", \"D149R\", \"R164D\", \"E186K\"], \"type\": \"bar\"}, {\"name\": \"sel2Gain in binding\", \"yaxis\": \"y2\", \"marker\": {\"color\": \"rgba(123,50,148,1)\"}, \"xaxis\": \"x2\", \"y\": [0.0, 0.0, -0.18453085799774271, 0.0], \"x\": [\"D145R\", \"D149R\", \"R164D\", \"E186K\"], \"type\": \"bar\"}, {\"name\": \"sel1Loss of binding\", \"yaxis\": \"y1\", \"marker\": {\"color\": \"rgba(0,136,55,1)\"}, \"xaxis\": \"x1\", \"y\": [22.899269801001083, 0.0, 24.42464641500146, 22.508144991503286], \"x\": [\"K27D\", \"E73K\", \"R83E\", \"R87E\"], \"type\": \"bar\"}, {\"name\": \"sel1Gain in binding\", \"yaxis\": \"y1\", \"marker\": {\"color\": \"rgba(123,50,148,1)\"}, \"xaxis\": \"x1\", \"y\": [0.0, -16.795127536497603, 0.0, 0.0], \"x\": [\"K27D\", \"E73K\", \"R83E\", \"R87E\"], \"type\": \"bar\"}], {\"yaxis1\": {\"domain\": [0.625, 1.0], \"anchor\": \"x1\", \"title\": \"kJ/mol\"}, \"xaxis2\": {\"domain\": [0.0, 1.0], \"anchor\": \"y2\"}, \"xaxis1\": {\"domain\": [0.0, 1.0], \"anchor\": \"y1\"}, \"barmode\": \"stack\", \"yaxis2\": {\"domain\": [0.0, 0.375], \"anchor\": \"x2\", \"title\": \"kJ/mol\"}, \"hovermode\": \"closest\", \"annotations\": [{\"yanchor\": \"bottom\", \"xref\": \"paper\", \"xanchor\": \"center\", \"yref\": \"paper\", \"text\": \"sel1 ddGa relative to WT\", \"y\": 1.0, \"x\": 0.5, \"font\": {\"size\": 16}, \"showarrow\": false}, {\"yanchor\": \"bottom\", \"xref\": \"paper\", \"xanchor\": \"center\", \"yref\": \"paper\", \"text\": \"sel2 ddGa relative to WT\", \"y\": 0.375, \"x\": 0.5, \"font\": {\"size\": 16}, \"showarrow\": false}]}, {\"linkText\": \"Export to plot.ly\", \"showLink\": true})});</script>"
      ],
      "text/plain": [
       "<IPython.core.display.HTML object>"
      ]
     },
     "metadata": {},
     "output_type": "display_data"
    }
   ],
   "source": [
    "plotScan_interactive(mutscan,display_output='notebook')\n",
    "#If you are not using a notebook to run your code then use the code below instead:\n",
    "#plotScan_interactive(mutscan)"
   ]
  },
  {
   "cell_type": "markdown",
   "metadata": {},
   "source": [
    "The `plotScan_interactive` function displays a bar plot similar to `plotScan` but now hovering over specific bars displays the corresponding asssociation/solvation free energy values. Additionally, clicking and dragging in the plot allows you to zoom in a subset of values. The plotly modebar in the top right has additional options such as  zoom, autoscale and saving as a static image.\n",
    "\n",
    "\n",
    "\n",
    "`plotNetwork_interactive` provides similar functionality but for network plots."
   ]
  },
  {
   "cell_type": "code",
   "execution_count": 3,
   "metadata": {
    "collapsed": false
   },
   "outputs": [
    {
     "name": "stderr",
     "output_type": "stream",
     "text": [
      "@> 3159 atoms and 1 coordinate sets were parsed in 0.03s.\n",
      "DEBUG:.prody:3159 atoms and 1 coordinate sets were parsed in 0.03s.\n"
     ]
    },
    {
     "data": {
      "text/html": [
       "<script>requirejs.config({paths: { 'plotly': ['https://cdn.plot.ly/plotly-latest.min']},});if(!window.Plotly) {{require(['plotly'],function(plotly) {window.Plotly=plotly;});}}</script>"
      ],
      "text/plain": [
       "<IPython.core.display.HTML object>"
      ]
     },
     "metadata": {},
     "output_type": "display_data"
    },
    {
     "data": {
      "text/html": [
       "<div id=\"ba6b0470-b333-4d7a-a33a-f5e3c91a87f0\" style=\"height: 525px; width: 100%;\" class=\"plotly-graph-div\"></div><script type=\"text/javascript\">require([\"plotly\"], function(Plotly) { window.PLOTLYENV=window.PLOTLYENV || {};window.PLOTLYENV.BASE_URL=\"https://plot.ly\";Plotly.newPlot(\"ba6b0470-b333-4d7a-a33a-f5e3c91a87f0\", [{\"mode\": \"lines\", \"hoverinfo\": \"none\", \"y\": [0.43919562145622837, 0.6050702873071657, null, 0.43919562145622837, 0.6739276129023749, null, 0.43919562145622837, 0.43450377539108465, null, 0.6050702873071657, 0.6739276129023749, null, 0.6050702873071657, 0.74956058152716, null, 0.6050702873071657, 0.43450377539108465, null, 0.6739276129023749, 0.74956058152716, null, 0.6739276129023749, 0.43450377539108465, null, 0.74956058152716, 0.43450377539108465, null], \"x\": [0.5326600721500439, 0.34819408729253765, null, 0.5326600721500439, 0.5177781925274311, null, 0.5326600721500439, 0.28050429379441577, null, 0.34819408729253765, 0.5177781925274311, null, 0.34819408729253765, 0.2255914074299324, null, 0.34819408729253765, 0.28050429379441577, null, 0.5177781925274311, 0.2255914074299324, null, 0.5177781925274311, 0.28050429379441577, null, 0.2255914074299324, 0.28050429379441577, null], \"line\": {\"color\": \"#888\", \"width\": 0.5}, \"type\": \"scatter\"}, {\"text\": [\"22.90 kJ/mol\", \"-16.80 kJ/mol\", \"24.42 kJ/mol\", \"22.51 kJ/mol\", \"36.61 kJ/mol\", \"22.39 kJ/mol\", \"9.61 kJ/mol\"], \"marker\": {\"reversescale\": true, \"cmin\": -36.60581083650368, \"colorscale\": \"RdBu\", \"color\": [22.899269801001083, -16.795127536497603, 24.42464641500146, 22.508144991503286, 36.60581083650368, 22.389985668501595, 9.614589328502461], \"colorbar\": {\"thickness\": 15, \"xanchor\": \"left\", \"titleside\": \"right\", \"title\": \"ddG (kJ/mol)\"}, \"showscale\": true, \"line\": {\"width\": 2}, \"cmax\": 36.60581083650368, \"size\": 20}, \"mode\": \"markers\", \"hoverinfo\": \"text\", \"y\": [0.43919562145622837, 0.6050702873071657, 0.6739276129023749, 0.74956058152716, 0.3149222407518096, 0.43450377539108465, 0.0], \"x\": [0.5326600721500439, 0.34819408729253765, 0.5177781925274311, 0.2255914074299324, 1.0, 0.28050429379441577, 0.0], \"type\": \"scatter\"}], {\"showlegend\": false, \"yaxis\": {\"zeroline\": false, \"showticklabels\": false, \"showgrid\": false}, \"title\": \"<br>Network Plot\", \"titlefont\": {\"size\": 16}, \"xaxis\": {\"zeroline\": false, \"showticklabels\": false, \"showgrid\": false}, \"hovermode\": \"closest\", \"margin\": {\"r\": 5, \"b\": 20, \"t\": 40, \"l\": 5}, \"annotations\": [{\"xref\": \"x1\", \"yref\": \"y1\", \"text\": \"K27A\", \"arrowsize\": 0.4, \"y\": 0.43919562145622837, \"x\": 0.5326600721500439, \"font\": {\"size\": 14}, \"showarrow\": true}, {\"xref\": \"x1\", \"yref\": \"y1\", \"text\": \"E73A\", \"arrowsize\": 0.4, \"y\": 0.6050702873071657, \"x\": 0.34819408729253765, \"font\": {\"size\": 14}, \"showarrow\": true}, {\"xref\": \"x1\", \"yref\": \"y1\", \"text\": \"R83A\", \"arrowsize\": 0.4, \"y\": 0.6739276129023749, \"x\": 0.5177781925274311, \"font\": {\"size\": 14}, \"showarrow\": true}, {\"xref\": \"x1\", \"yref\": \"y1\", \"text\": \"R87A\", \"arrowsize\": 0.4, \"y\": 0.74956058152716, \"x\": 0.2255914074299324, \"font\": {\"size\": 14}, \"showarrow\": true}, {\"xref\": \"x1\", \"yref\": \"y1\", \"text\": \"D145B\", \"arrowsize\": 0.4, \"y\": 0.3149222407518096, \"x\": 1.0, \"font\": {\"size\": 14}, \"showarrow\": true}, {\"xref\": \"x1\", \"yref\": \"y1\", \"text\": \"D149B\", \"arrowsize\": 0.4, \"y\": 0.43450377539108465, \"x\": 0.28050429379441577, \"font\": {\"size\": 14}, \"showarrow\": true}, {\"xref\": \"x1\", \"yref\": \"y1\", \"text\": \"E186B\", \"arrowsize\": 0.4, \"y\": 0.0, \"x\": 0.0, \"font\": {\"size\": 14}, \"showarrow\": true}]}, {\"linkText\": \"Export to plot.ly\", \"showLink\": true})});</script>"
      ],
      "text/plain": [
       "<IPython.core.display.HTML object>"
      ]
     },
     "metadata": {},
     "output_type": "display_data"
    }
   ],
   "source": [
    "plotNetwork_interactive(mutscan,display_output='notebook')\n",
    "#If you are not using a notebook to run your code then use the code below instead:\n",
    "#plotNetwork_interactive(mutscan)"
   ]
  }
 ],
 "metadata": {
  "kernelspec": {
   "display_name": "Python 2",
   "language": "python",
   "name": "python2"
  },
  "language_info": {
   "codemirror_mode": {
    "name": "ipython",
    "version": 2
   },
   "file_extension": ".py",
   "mimetype": "text/x-python",
   "name": "python",
   "nbconvert_exporter": "python",
   "pygments_lexer": "ipython2",
   "version": "2.7.11"
  }
 },
 "nbformat": 4,
 "nbformat_minor": 0
}
