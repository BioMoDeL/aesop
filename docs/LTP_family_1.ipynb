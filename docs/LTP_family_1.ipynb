{
 "cells": [
  {
   "cell_type": "markdown",
   "metadata": {},
   "source": [
    "# LTP ElecSimilarity Interactive Plotting Demo"
   ]
  },
  {
   "cell_type": "markdown",
   "metadata": {},
   "source": [
    "This notebook showcases the interactive plotting function `plotESD_interactive` in AESOP using the [LTP plant proteins ElecSimilarity example](https://aesop.readthedocs.io/en/latest/elecsimilarity.html#example-case-1-ltp-plant-proteins).The sample code below imports the relevant classes and functions to perform Electrostatic Similarity analysis and output the results using interactive plots.\n",
    "\n",
    "Before proceeding, make sure you have the python packages `plotly` and `networkx` installed as described in the [documentation](https://aesop.readthedocs.io/en/latest/installation.html)."
   ]
  },
  {
   "cell_type": "code",
   "execution_count": null,
   "metadata": {
    "collapsed": false
   },
   "outputs": [],
   "source": [
    "from aesop import ElecSimilarity, plotESD_interactive\n",
    "\n",
    "path_apbs    = 'path\\to\\executable\\apbs'\n",
    "path_coulomb = 'path\\to\\executable\\coulomb'\n",
    "path_pdb2pqr = 'path\\to\\executable\\pdb2pqr'\n",
    "\n",
    "pdbfiles = ['1MZL.pdb', 'SCA1.pdb', 'SCA3.pdb']\n",
    "jobname = 'LTP_test1'\n",
    "\n",
    "family = ElecSimilarity(pdbfiles=pdbfiles,\n",
    "                        pdb2pqr_exe=path_pdb2pqr,\n",
    "                        apbs_exe=path_apbs,\n",
    "                        jobname=jobname)\n",
    "\n",
    "family.run(superpose=True, center=False)"
   ]
  },
  {
   "cell_type": "markdown",
   "metadata": {},
   "source": [
    "Once ElecSimilarity is instantiated and finished running, we can plot the results. The `plotESD_interactive` by default, outputs the results in an html file and opens it up in your browser. However, if you are using a [notebook](https://jupyter.org/) to view it, you can display the plot inline by passing the argument `display_output='notebook'` to the function.\n",
    "\n",
    "The `plotESD_interactive` function combines the heatmap and dendogram functionality of `plotDend` and `plotESD` but now hovering over specific regions displays the corresponding ESD. Additionally, clicking and dragging in the plot allows you to zoom in a subset of values. The plotly modebar in the top right has additional options such as  zoom, autoscale and saving as a static image."
   ]
  },
  {
   "cell_type": "code",
   "execution_count": 2,
   "metadata": {
    "collapsed": false
   },
   "outputs": [
    {
     "data": {
      "text/html": [
       "<script>requirejs.config({paths: { 'plotly': ['https://cdn.plot.ly/plotly-latest.min']},});if(!window.Plotly) {{require(['plotly'],function(plotly) {window.Plotly=plotly;});}}</script>"
      ],
      "text/plain": [
       "<IPython.core.display.HTML object>"
      ]
     },
     "metadata": {},
     "output_type": "display_data"
    },
    {
     "data": {
      "text/html": [
       "<div id=\"c0a01199-7f2c-4301-aae7-a800c3389be7\" style=\"height: 100%; width: 100%;\" class=\"plotly-graph-div\"></div><script type=\"text/javascript\">require([\"plotly\"], function(Plotly) { window.PLOTLYENV=window.PLOTLYENV || {};window.PLOTLYENV.BASE_URL=\"https://plot.ly\";Plotly.newPlot(\"c0a01199-7f2c-4301-aae7-a800c3389be7\", [{\"yaxis\": \"y2\", \"marker\": {\"color\": \"rgb(0,116,217)\"}, \"mode\": \"lines\", \"xaxis\": \"x\", \"y\": [0.0, 0.4105570939457501, 0.4105570939457501, 0.0], \"x\": [15.0, 15.0, 25.0, 25.0], \"type\": \"scatter\"}, {\"yaxis\": \"y2\", \"marker\": {\"color\": \"rgb(0,116,217)\"}, \"mode\": \"lines\", \"xaxis\": \"x\", \"y\": [0.0, 0.510334036042467, 0.510334036042467, 0.4105570939457501], \"x\": [5.0, 5.0, 20.0, 20.0], \"type\": \"scatter\"}, {\"yaxis\": \"y\", \"marker\": {\"color\": \"rgb(0,116,217)\"}, \"mode\": \"lines\", \"xaxis\": \"x2\", \"y\": [15.0, 15.0, 25.0, 25.0], \"x\": [-0.0, -0.4105570939457501, -0.4105570939457501, -0.0], \"type\": \"scatter\"}, {\"yaxis\": \"y\", \"marker\": {\"color\": \"rgb(0,116,217)\"}, \"mode\": \"lines\", \"xaxis\": \"x2\", \"y\": [5.0, 5.0, 20.0, 20.0], \"x\": [-0.0, -0.510334036042467, -0.510334036042467, -0.4105570939457501], \"type\": \"scatter\"}, {\"y\": [5.0, 15.0, 25.0], \"x\": [5.0, 15.0, 25.0], \"z\": [[0.0, 0.3303448435872807, 0.3597066712071797], [0.3303448435872807, 0.0, 0.2895643369512195], [0.3597066712071797, 0.2895643369512195, 0.0]], \"type\": \"heatmap\", \"colorscale\": \"YIGnBu\"}], {\"showlegend\": false, \"yaxis\": {\"domain\": [0, 0.85], \"showticklabels\": false, \"ticks\": \"\", \"showgrid\": false, \"mirror\": false, \"zeroline\": false, \"showline\": false, \"ticktext\": [\"1MZL\", \"SCA1\", \"SCA3\"], \"rangemode\": \"tozero\", \"type\": \"linear\", \"side\": \"right\", \"tickvals\": [5.0, 15.0, 25.0]}, \"xaxis2\": {\"domain\": [0, 0.15], \"showticklabels\": false, \"ticks\": \"\", \"showgrid\": false, \"mirror\": false, \"zeroline\": false, \"showline\": false}, \"autosize\": false, \"width\": \"100%\", \"yaxis2\": {\"domain\": [0.825, 0.975], \"showticklabels\": false, \"ticks\": \"\", \"showgrid\": false, \"mirror\": false, \"zeroline\": false, \"showline\": false}, \"xaxis\": {\"domain\": [0.15, 1], \"showticklabels\": true, \"tickmode\": \"array\", \"ticks\": \"\", \"showgrid\": false, \"mirror\": false, \"zeroline\": false, \"showline\": false, \"ticktext\": [\"1MZL\", \"SCA1\", \"SCA3\"], \"rangemode\": \"tozero\", \"type\": \"linear\", \"tickvals\": [5.0, 15.0, 25.0]}, \"hovermode\": \"closest\", \"height\": \"100%\", \"margin\": {\"b\": 140, \"t\": 10}}, {\"linkText\": \"Export to plot.ly\", \"showLink\": true})});</script>"
      ],
      "text/plain": [
       "<IPython.core.display.HTML object>"
      ]
     },
     "metadata": {},
     "output_type": "display_data"
    }
   ],
   "source": [
    "plotESD_interactive(family,display_output='notebook')\n",
    "#If you are not using a notebook to run your code then use the code below instead:\n",
    "#plotESD_interactive(family)"
   ]
  }
 ],
 "metadata": {
  "kernelspec": {
   "display_name": "Python 2",
   "language": "python",
   "name": "python2"
  },
  "language_info": {
   "codemirror_mode": {
    "name": "ipython",
    "version": 2
   },
   "file_extension": ".py",
   "mimetype": "text/x-python",
   "name": "python",
   "nbconvert_exporter": "python",
   "pygments_lexer": "ipython2",
   "version": "2.7.11"
  }
 },
 "nbformat": 4,
 "nbformat_minor": 0
}
