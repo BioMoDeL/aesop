{
 "cells": [
  {
   "cell_type": "code",
   "execution_count": 1,
   "metadata": {
    "collapsed": true
   },
   "outputs": [],
   "source": [
    "import pickle as p\n",
    "import networkx as nx\n",
    "from scipy.spatial.distance import pdist, squareform\n",
    "import os\n",
    "import numpy as np\n",
    "import prody as pd"
   ]
  },
  {
   "cell_type": "code",
   "execution_count": 3,
   "metadata": {
    "collapsed": false
   },
   "outputs": [
    {
     "name": "stdout",
     "output_type": "stream",
     "text": [
      "\n",
      "AESOP: Analysis of Electrostatic Structure of Proteins\n",
      "\n",
      "Reed E. S. Harrison, Rohith R. Mohan, Dimitrios Morikis\n",
      "University of California, Riverside; Department of Bioengineering\n",
      "\n",
      "Correspondence should be directed to Prof. Dimitrios Morikis at\n",
      "dmorikis@ucr.edu\n",
      "\n",
      "Copyright (C) 2016  Reed E. S. Harrison, Rohith R. Mohan, Ronald D.\n",
      "Gorham Jr., Chris A. Kieslich, Dimitrios Morikis\n",
      "\n",
      "This program is free software: you can redistribute it and/or modify\n",
      "it under the terms of the GNU General Public License as published by\n",
      "the Free Software Foundation, either version 3 of the License, or\n",
      "(at your option) any later version.\n",
      "\n",
      "This program is distributed in the hope that it will be useful,\n",
      "but WITHOUT ANY WARRANTY; without even the implied warranty of\n",
      "ERCHANTABILITY or FITNESS FOR A PARTICULAR PURPOSE.  See the\n",
      "GNU General Public License for more details.\n",
      "\n",
      "You should have received a copy of the GNU General Public License\n",
      "along with this program.  If not, see <http://www.gnu.org/licenses/>.\n",
      "\n"
     ]
    }
   ],
   "source": [
    "alascan = p.load( open( \"save.p\", \"rb\" ) )"
   ]
  },
  {
   "cell_type": "code",
   "execution_count": 4,
   "metadata": {
    "collapsed": false
   },
   "outputs": [],
   "source": [
    "scan = alascan\n",
    "AA_dict = {\n",
    "    'CYS': 'C',\n",
    "    'ASP': 'D',\n",
    "    'SER': 'S',\n",
    "    'GLN': 'Q',\n",
    "    'LYS': 'K',\n",
    "    'ILE': 'I',\n",
    "    'PRO': 'P',\n",
    "    'THR': 'T',\n",
    "    'PHE': 'F',\n",
    "    'ASN': 'N',\n",
    "    'GLY': 'G',\n",
    "    'HIS': 'H',\n",
    "    'LEU': 'L',\n",
    "    'ARG': 'R',\n",
    "    'TRP': 'W',\n",
    "    'ALA': 'A',\n",
    "    'VAL': 'V',\n",
    "    'GLU': 'E',\n",
    "    'TYR': 'Y',\n",
    "    'MET': 'M'\n",
    "}"
   ]
  },
  {
   "cell_type": "code",
   "execution_count": 5,
   "metadata": {
    "collapsed": false
   },
   "outputs": [],
   "source": [
    "pdbfile = os.path.join(scan.jobdir,\n",
    "                           scan.pqr_complex_dir,\n",
    "                           'wt.pqr')"
   ]
  },
  {
   "cell_type": "code",
   "execution_count": 6,
   "metadata": {
    "collapsed": false
   },
   "outputs": [],
   "source": [
    "selstr = scan.selstr\n",
    "jobdir = scan.jobdir\n",
    "title=''\n",
    "dpi=300\n",
    "cutoff=5.\n",
    "E=2.5\n",
    "node_size=1500\n",
    "font_size=12\n",
    "alpha=0.8\n",
    "edge_color='g'\n",
    "edge_width=3."
   ]
  },
  {
   "cell_type": "code",
   "execution_count": 7,
   "metadata": {
    "collapsed": false
   },
   "outputs": [
    {
     "name": "stderr",
     "output_type": "stream",
     "text": [
      "@> 3159 atoms and 1 coordinate sets were parsed in 0.04s.\n",
      "DEBUG:.prody:3159 atoms and 1 coordinate sets were parsed in 0.04s.\n"
     ]
    }
   ],
   "source": [
    "if len(selstr) > 1:\n",
    "        ddGa = scan.ddGa_rel()[1:]\n",
    "else:\n",
    "    ddGa = scan.dGsolv_rel()[1:]\n",
    "mutids = scan.getMutids()[1:]\n",
    "\n",
    "mutids = np.asarray(mutids)\n",
    "mutids = mutids[np.where(np.abs(ddGa) >= E)[0]]\n",
    "mutids = mutids.tolist()\n",
    "ddGa = np.asarray(ddGa)\n",
    "ddGa = ddGa[np.where(np.abs(ddGa) >= E)[0]]\n",
    "ddGa = ddGa.tolist()\n",
    "n = len(mutids)\n",
    "seg2sel = dict(('seg%d' % (key + 1), val)\n",
    "               for (key, val) in enumerate(selstr))\n",
    "\n",
    "regions = [seg2sel[x.split('_')[0]] for x in mutids]\n",
    "numbers = [int(x.split('_')[1][1:-1]) for x in mutids]\n",
    "pdb = pd.parsePQR(pdbfile)"
   ]
  },
  {
   "cell_type": "code",
   "execution_count": 8,
   "metadata": {
    "collapsed": false
   },
   "outputs": [],
   "source": [
    "atoms = pdb.select(\n",
    "    ' and '.join([\n",
    "        regions[0],\n",
    "        'resnum %s' % (numbers[0]),\n",
    "        '(charge >= 0.3 or charge <= -0.3)',\n",
    "        'sidechain'  # ,\n",
    "        # 'heavy'\n",
    "    ])\n",
    ")\n",
    "chains = [atoms.getChids()[0]]\n",
    "resids = [AA_dict[atoms.getResnames()[0]]]\n",
    "\n",
    "for region, number in zip(regions[1:], numbers[1:]):\n",
    "    currsel = pdb.select(\n",
    "        ' and '.join([\n",
    "            region,\n",
    "            'resnum %s' % (number),\n",
    "            '(charge >= 0.3 or charge <= -0.3)',\n",
    "            'sidechain'  # ,\n",
    "            # 'heavy'\n",
    "        ])\n",
    "    )\n",
    "    atoms = atoms + currsel\n",
    "    chains.append(currsel.getChids()[0])\n",
    "    resids.append(AA_dict[currsel.getResnames()[0]])\n",
    "\n",
    "# Calc distance matrix\n",
    "resnums = np.asarray(numbers)\n",
    "chains = np.asarray(chains)\n",
    "resids = np.asarray(resids)\n",
    "lbls = ['%s%d%s' % (rid, res, chid)\n",
    "        for rid, res, chid in zip(resids, resnums, chains)]\n",
    "n = len(resnums)\n",
    "\n",
    "atom_dist = squareform(pdist(atoms.getCoords()))\n",
    "res_dist = -1.0 * np.ones((n, n))\n",
    "\n",
    "for i, i_res, i_chid in zip(range(n), resnums, chains):\n",
    "\n",
    "    i_idx = np.where(np.logical_and(\n",
    "        atoms.getResnums() == i_res,\n",
    "        atoms.getChids() == i_chid\n",
    "    )\n",
    "    )[0]\n",
    "\n",
    "    for j, j_res, j_chid in zip(range(n), resnums, chains):\n",
    "        if i != j:\n",
    "            j_idx = np.where(np.logical_and(\n",
    "                atoms.getResnums() == j_res,\n",
    "                atoms.getChids() == j_chid\n",
    "            )\n",
    "            )[0]\n",
    "            res_dist[i, j] = np.min(atom_dist[np.ix_(i_idx, j_idx)])\n",
    "        else:\n",
    "            res_dist[i, j] = 0"
   ]
  },
  {
   "cell_type": "code",
   "execution_count": 9,
   "metadata": {
    "collapsed": false
   },
   "outputs": [],
   "source": [
    "# Find edges\n",
    "res_dist *= np.tri(*res_dist.shape, k=-1)\n",
    "mask = np.logical_and((res_dist > 0), (res_dist <= cutoff))\n",
    "row, col = np.where(mask)\n",
    "\n",
    "# Generate graph\n",
    "vmax = np.max(np.abs(ddGa))\n",
    "#norm = mpl.colors.Normalize(vmin=-1 * vmax, vmax=vmax)\n",
    "#cmap = plt.cm.coolwarm_r\n",
    "\n",
    "G = nx.Graph()\n",
    "for node, val, lbl in zip(range(n), ddGa, lbls):\n",
    "    G.add_node(node, ddGa=val, lbl=lbl, alpha=alpha)  # , size=node_size)\n",
    "for i, j in zip(row, col):\n",
    "    G.add_edge(i, j, weight=res_dist[i, j])"
   ]
  },
  {
   "cell_type": "code",
   "execution_count": 10,
   "metadata": {
    "collapsed": false
   },
   "outputs": [],
   "source": [
    "pos = nx.spring_layout(G)"
   ]
  },
  {
   "cell_type": "code",
   "execution_count": 11,
   "metadata": {
    "collapsed": true
   },
   "outputs": [],
   "source": [
    "dmin=1\n",
    "ncenter=0\n",
    "for n in pos:\n",
    "    x,y=pos[n]\n",
    "    d=(x-0.5)**2+(y-0.5)**2\n",
    "    if d<dmin:\n",
    "        ncenter=n\n",
    "        dmin=d\n",
    "        \n",
    "p=nx.single_source_shortest_path_length(G,ncenter)"
   ]
  },
  {
   "cell_type": "code",
   "execution_count": 12,
   "metadata": {
    "collapsed": true
   },
   "outputs": [],
   "source": [
    "import plotly.plotly as py\n",
    "import plotly\n",
    "import plotly.graph_objs as go\n",
    "from plotly.offline import download_plotlyjs, init_notebook_mode, iplot\n",
    "from plotly import tools"
   ]
  },
  {
   "cell_type": "code",
   "execution_count": 13,
   "metadata": {
    "collapsed": false
   },
   "outputs": [],
   "source": [
    "edge_trace = go.Scatter(\n",
    "    x=[], \n",
    "    y=[], \n",
    "    line=go.Line(width=0.5,color='#888'),\n",
    "    hoverinfo='none',\n",
    "    mode='lines')\n",
    "\n",
    "for edge in G.edges():\n",
    "    x0, y0 = pos[edge[0]]\n",
    "    x1, y1 = pos[edge[1]]\n",
    "    edge_trace['x'] += [x0, x1, None]\n",
    "    edge_trace['y'] += [y0, y1, None]\n",
    "\n",
    "node_trace =go.Scatter(\n",
    "    x=[], \n",
    "    y=[], \n",
    "    text=[],\n",
    "    mode='markers', \n",
    "    hoverinfo='text',\n",
    "    marker=go.Marker(\n",
    "        showscale=True,\n",
    "        # colorscale options\n",
    "        # 'Greys' | 'Greens' | 'Bluered' | 'Hot' | 'Picnic' | 'Portland' |\n",
    "        # Jet' | 'RdBu' | 'Blackbody' | 'Earth' | 'Electric' | 'YIOrRd' | 'YIGnBu'\n",
    "        colorscale='RdBu',\n",
    "        cmin = -1 * vmax,\n",
    "        cmax = vmax,\n",
    "        reversescale=True,\n",
    "        color=[], \n",
    "        size=20,         \n",
    "        colorbar=dict(\n",
    "            thickness=15,\n",
    "            title='ddG (kJ/mol)',\n",
    "            xanchor='left',\n",
    "            titleside='right'\n",
    "        ),\n",
    "        line=dict(width=2)))\n",
    "\n",
    "for node in G.nodes():\n",
    "    x, y = pos[node]\n",
    "    node_trace['x'].append(x)\n",
    "    node_trace['y'].append(y)"
   ]
  },
  {
   "cell_type": "code",
   "execution_count": 14,
   "metadata": {
    "collapsed": false
   },
   "outputs": [],
   "source": [
    "energy = nx.get_node_attributes(G, 'ddGa')\n",
    "for node in G.nodes():\n",
    "    node_trace['marker']['color'].append(energy[node])\n",
    "    node_info = \"{0:.2f}\".format(G.node[node]['ddGa'])+ ' kJ/mol'\n",
    "    node_trace['text'].append(node_info)\n",
    "    \n",
    "annotations = go.Annotations()\n",
    "for k in range(len(lbls)):\n",
    "    annotations.append(\n",
    "        go.Annotation(\n",
    "            text=lbls[k], \n",
    "            x=pos[k][0], y=pos[k][1],\n",
    "            xref='x1', yref='y1',\n",
    "            font=dict(size=14),\n",
    "            arrowsize = .4,\n",
    "            showarrow=True)\n",
    "    )"
   ]
  },
  {
   "cell_type": "code",
   "execution_count": 15,
   "metadata": {
    "collapsed": false
   },
   "outputs": [],
   "source": [
    "fig = go.Figure(data=go.Data([edge_trace, node_trace]),\n",
    "             layout=go.Layout(\n",
    "                title='<br>Network Plot',\n",
    "                titlefont=dict(size=16),\n",
    "                showlegend=False, \n",
    "                hovermode='closest',\n",
    "                margin=dict(b=20,l=5,r=5,t=40),\n",
    "                annotations=annotations,\n",
    "                xaxis=go.XAxis(showgrid=False, zeroline=False, showticklabels=False),\n",
    "                yaxis=go.YAxis(showgrid=False, zeroline=False, showticklabels=False)))"
   ]
  },
  {
   "cell_type": "code",
   "execution_count": 68,
   "metadata": {
    "collapsed": false
   },
   "outputs": [
    {
     "data": {
      "text/plain": [
       "'file://F:\\\\Libraries\\\\OneDrive - email.ucr.edu\\\\Work\\\\Morikis\\\\Computing\\\\testing\\\\barnase_barstar_alascan\\\\temp-plot.html'"
      ]
     },
     "execution_count": 68,
     "metadata": {},
     "output_type": "execute_result"
    }
   ],
   "source": [
    "plotly.offline.plot(fig)"
   ]
  },
  {
   "cell_type": "code",
   "execution_count": 17,
   "metadata": {
    "collapsed": false
   },
   "outputs": [
    {
     "data": {
      "text/html": [
       "<script>requirejs.config({paths: { 'plotly': ['https://cdn.plot.ly/plotly-latest.min']},});if(!window.Plotly) {{require(['plotly'],function(plotly) {window.Plotly=plotly;});}}</script>"
      ],
      "text/plain": [
       "<IPython.core.display.HTML object>"
      ]
     },
     "metadata": {},
     "output_type": "display_data"
    },
    {
     "data": {
      "text/html": [
       "<div id=\"f1047da4-6a56-4d51-8029-8fcec94fd250\" style=\"height: 525px; width: 100%;\" class=\"plotly-graph-div\"></div><script type=\"text/javascript\">require([\"plotly\"], function(Plotly) { window.PLOTLYENV=window.PLOTLYENV || {};window.PLOTLYENV.BASE_URL=\"https://plot.ly\";Plotly.newPlot(\"f1047da4-6a56-4d51-8029-8fcec94fd250\", [{\"mode\": \"lines\", \"hoverinfo\": \"none\", \"y\": [0.22611422092797084, 0.09486438276698318, null, 0.22611422092797084, 0.3402517099842275, null, 0.22611422092797084, 0.3935095699505315, null, 0.22611422092797084, 0.47737167487197046, null, 0.3977301944611547, 0.17541474612488747, null, 0.3977301944611547, 0.6393446309715793, null, 0.0, 0.17541474612488747, null, 0.3935095699505315, 0.3402517099842275, null, 0.3935095699505315, 0.47737167487197046, null, 0.3935095699505315, 0.6017954703052899, null, 0.7729728208515149, 0.47737167487197046, null, 0.7729728208515149, 0.6017954703052899, null, 0.47737167487197046, 0.6017954703052899, null, 0.47737167487197046, 0.5797351051491115, null, 0.47737167487197046, 0.3402517099842275, null, 0.6017954703052899, 0.5797351051491115, null, 0.6017954703052899, 0.3402517099842275, null, 0.5797351051491115, 0.3402517099842275, null], \"x\": [0.9043320952532073, 1.0, null, 0.9043320952532073, 0.7815528344552503, null, 0.9043320952532073, 0.9558707104903003, null, 0.9043320952532073, 0.8258174355219032, null, 0.0011354849286220004, 0.0, null, 0.0011354849286220004, 0.07746782856547964, null, 0.06884079833568793, 0.0, null, 0.9558707104903003, 0.7815528344552503, null, 0.9558707104903003, 0.8258174355219032, null, 0.9558707104903003, 0.8685628759731465, null, 0.8223423513493149, 0.8258174355219032, null, 0.8223423513493149, 0.8685628759731465, null, 0.8258174355219032, 0.8685628759731465, null, 0.8258174355219032, 0.6585224179392241, null, 0.8258174355219032, 0.7815528344552503, null, 0.8685628759731465, 0.6585224179392241, null, 0.8685628759731465, 0.7815528344552503, null, 0.6585224179392241, 0.7815528344552503, null], \"line\": {\"color\": \"#888\", \"width\": 0.5}, \"type\": \"scatter\"}, {\"text\": [\"12.13 kJ/mol\", \"-6.03 kJ/mol\", \"11.40 kJ/mol\", \"4.31 kJ/mol\", \"-8.69 kJ/mol\", \"-6.24 kJ/mol\", \"12.40 kJ/mol\", \"11.94 kJ/mol\", \"2.74 kJ/mol\", \"8.01 kJ/mol\", \"7.97 kJ/mol\", \"4.46 kJ/mol\"], \"marker\": {\"reversescale\": true, \"cmin\": -12.398732062999898, \"colorscale\": \"RdBu\", \"color\": [12.127635905000261, -6.0256180759974995, 11.395512066001174, 4.309927889002211, -8.693258645997958, -6.240515365997453, 12.398732062999898, 11.938742417000867, 2.7418436410025606, 8.007072491499457, 7.965003474999776, 4.457930597500763], \"colorbar\": {\"thickness\": 15, \"xanchor\": \"left\", \"titleside\": \"right\", \"title\": \"ddG (kJ/mol)\"}, \"showscale\": true, \"line\": {\"width\": 2}, \"cmax\": 12.398732062999898, \"size\": 20}, \"mode\": \"markers\", \"hoverinfo\": \"text\", \"y\": [0.22611422092797084, 0.09486438276698318, 0.3977301944611547, 0.0, 0.3935095699505315, 0.7729728208515149, 0.47737167487197046, 0.6017954703052899, 0.5797351051491115, 0.17541474612488747, 0.3402517099842275, 0.6393446309715793], \"x\": [0.9043320952532073, 1.0, 0.0011354849286220004, 0.06884079833568793, 0.9558707104903003, 0.8223423513493149, 0.8258174355219032, 0.8685628759731465, 0.6585224179392241, 0.0, 0.7815528344552503, 0.07746782856547964], \"type\": \"scatter\"}], {\"showlegend\": false, \"yaxis\": {\"zeroline\": false, \"showticklabels\": false, \"showgrid\": false}, \"title\": \"<br>Network Plot\", \"titlefont\": {\"size\": 16}, \"xaxis\": {\"zeroline\": false, \"showticklabels\": false, \"showgrid\": false}, \"hovermode\": \"closest\", \"margin\": {\"r\": 5, \"b\": 20, \"t\": 40, \"l\": 5}, \"annotations\": [{\"xref\": \"x1\", \"yref\": \"y1\", \"text\": \"K27A\", \"arrowsize\": 0.4, \"y\": 0.22611422092797084, \"x\": 0.9043320952532073, \"font\": {\"size\": 14}, \"showarrow\": true}, {\"xref\": \"x1\", \"yref\": \"y1\", \"text\": \"D54A\", \"arrowsize\": 0.4, \"y\": 0.09486438276698318, \"x\": 1.0, \"font\": {\"size\": 14}, \"showarrow\": true}, {\"xref\": \"x1\", \"yref\": \"y1\", \"text\": \"R59A\", \"arrowsize\": 0.4, \"y\": 0.3977301944611547, \"x\": 0.0011354849286220004, \"font\": {\"size\": 14}, \"showarrow\": true}, {\"xref\": \"x1\", \"yref\": \"y1\", \"text\": \"K62A\", \"arrowsize\": 0.4, \"y\": 0.0, \"x\": 0.06884079833568793, \"font\": {\"size\": 14}, \"showarrow\": true}, {\"xref\": \"x1\", \"yref\": \"y1\", \"text\": \"E73A\", \"arrowsize\": 0.4, \"y\": 0.3935095699505315, \"x\": 0.9558707104903003, \"font\": {\"size\": 14}, \"showarrow\": true}, {\"xref\": \"x1\", \"yref\": \"y1\", \"text\": \"D75A\", \"arrowsize\": 0.4, \"y\": 0.7729728208515149, \"x\": 0.8223423513493149, \"font\": {\"size\": 14}, \"showarrow\": true}, {\"xref\": \"x1\", \"yref\": \"y1\", \"text\": \"R83A\", \"arrowsize\": 0.4, \"y\": 0.47737167487197046, \"x\": 0.8258174355219032, \"font\": {\"size\": 14}, \"showarrow\": true}, {\"xref\": \"x1\", \"yref\": \"y1\", \"text\": \"R87A\", \"arrowsize\": 0.4, \"y\": 0.6017954703052899, \"x\": 0.8685628759731465, \"font\": {\"size\": 14}, \"showarrow\": true}, {\"xref\": \"x1\", \"yref\": \"y1\", \"text\": \"H102A\", \"arrowsize\": 0.4, \"y\": 0.5797351051491115, \"x\": 0.6585224179392241, \"font\": {\"size\": 14}, \"showarrow\": true}, {\"xref\": \"x1\", \"yref\": \"y1\", \"text\": \"D145B\", \"arrowsize\": 0.4, \"y\": 0.17541474612488747, \"x\": 0.0, \"font\": {\"size\": 14}, \"showarrow\": true}, {\"xref\": \"x1\", \"yref\": \"y1\", \"text\": \"D149B\", \"arrowsize\": 0.4, \"y\": 0.3402517099842275, \"x\": 0.7815528344552503, \"font\": {\"size\": 14}, \"showarrow\": true}, {\"xref\": \"x1\", \"yref\": \"y1\", \"text\": \"E186B\", \"arrowsize\": 0.4, \"y\": 0.6393446309715793, \"x\": 0.07746782856547964, \"font\": {\"size\": 14}, \"showarrow\": true}]}, {\"linkText\": \"Export to plot.ly\", \"showLink\": true})});</script>"
      ],
      "text/plain": [
       "<IPython.core.display.HTML object>"
      ]
     },
     "metadata": {},
     "output_type": "display_data"
    }
   ],
   "source": [
    "init_notebook_mode(connected=True)\n",
    "plotly.offline.iplot(fig)"
   ]
  },
  {
   "cell_type": "code",
   "execution_count": null,
   "metadata": {
    "collapsed": false
   },
   "outputs": [],
   "source": [
    "energy"
   ]
  },
  {
   "cell_type": "code",
   "execution_count": null,
   "metadata": {
    "collapsed": false
   },
   "outputs": [],
   "source": [
    "G.node"
   ]
  },
  {
   "cell_type": "code",
   "execution_count": null,
   "metadata": {
    "collapsed": true
   },
   "outputs": [],
   "source": [
    "fig['layout'].update(annotations=annotations2)"
   ]
  },
  {
   "cell_type": "code",
   "execution_count": null,
   "metadata": {
    "collapsed": false
   },
   "outputs": [],
   "source": [
    "\"{0:.2f}\".format(13.949999999999999)+ ' kJ/mol'"
   ]
  },
  {
   "cell_type": "code",
   "execution_count": 21,
   "metadata": {
    "collapsed": false,
    "scrolled": true
   },
   "outputs": [],
   "source": [
    "from plotly.offline.offline import _plot_html\n",
    "from bs4 import BeautifulSoup"
   ]
  },
  {
   "cell_type": "code",
   "execution_count": 46,
   "metadata": {
    "collapsed": false
   },
   "outputs": [],
   "source": [
    "plot_html, plotdivid, width, height = _plot_html(\n",
    "        fig, {\"displayModeBar\":\"True\"}, True, '100%', '100%',False)"
   ]
  },
  {
   "cell_type": "code",
   "execution_count": 47,
   "metadata": {
    "collapsed": false
   },
   "outputs": [],
   "source": [
    "\n",
    "soup = BeautifulSoup(plot_html, 'html.parser')\n",
    "div_text = str(soup.find(\"div\", {\"class\": \"plotly-graph-div\"}))\n",
    "script_text = str(soup.find(\"script\"))"
   ]
  },
  {
   "cell_type": "code",
   "execution_count": 49,
   "metadata": {
    "collapsed": false
   },
   "outputs": [
    {
     "data": {
      "text/plain": [
       "'<script type=\"text/javascript\">window.PLOTLYENV=window.PLOTLYENV || {};window.PLOTLYENV.BASE_URL=\"https://plot.ly\";Plotly.newPlot(\"18ce2ebe-e5b7-4b53-b913-c3cb77e2c130\", [{\"mode\": \"lines\", \"hoverinfo\": \"none\", \"y\": [0.2474670628126142, 0.004610991845476047, null, 0.2474670628126142, 0.41803127966187303, null, 0.2474670628126142, 0.4181019914702241, null, 0.2474670628126142, 0.5383145704578761, null, 0.2019872194374435, 0.41405028150987905, null, 0.2019872194374435, 0.0, null, 0.5949475841310117, 0.41405028150987905, null, 0.4181019914702241, 0.41803127966187303, null, 0.4181019914702241, 0.5383145704578761, null, 0.4181019914702241, 0.6736348910712314, null, 0.8617966488323395, 0.5383145704578761, null, 0.8617966488323395, 0.6736348910712314, null, 0.5383145704578761, 0.6736348910712314, null, 0.5383145704578761, 0.6516503079082471, null, 0.5383145704578761, 0.41803127966187303, null, 0.6736348910712314, 0.6516503079082471, null, 0.6736348910712314, 0.41803127966187303, null, 0.6516503079082471, 0.41803127966187303, null], \"x\": [0.072353229864507, 0.10073515669210782, null, 0.072353229864507, 0.01844291833838328, null, 0.072353229864507, 0.1820476147941607, null, 0.072353229864507, 0.10199287049419935, null, 0.9683141154773641, 1.0, null, 0.9683141154773641, 0.8353392281809753, null, 0.9650512946889813, 1.0, null, 0.1820476147941607, 0.01844291833838328, null, 0.1820476147941607, 0.10199287049419935, null, 0.1820476147941607, 0.17340319557275177, null, 0.2357673722928974, 0.10199287049419935, null, 0.2357673722928974, 0.17340319557275177, null, 0.10199287049419935, 0.17340319557275177, null, 0.10199287049419935, 0.0, null, 0.10199287049419935, 0.01844291833838328, null, 0.17340319557275177, 0.0, null, 0.17340319557275177, 0.01844291833838328, null, 0.0, 0.01844291833838328, null], \"line\": {\"color\": \"#888\", \"width\": 0.5}, \"type\": \"scatter\"}, {\"text\": [\"12.13 kJ/mol\", \"-6.03 kJ/mol\", \"11.40 kJ/mol\", \"4.31 kJ/mol\", \"-8.69 kJ/mol\", \"-6.24 kJ/mol\", \"12.40 kJ/mol\", \"11.94 kJ/mol\", \"2.74 kJ/mol\", \"8.01 kJ/mol\", \"7.97 kJ/mol\", \"4.46 kJ/mol\"], \"marker\": {\"reversescale\": true, \"cmin\": -12.398732062999898, \"colorscale\": \"RdBu\", \"color\": [12.127635905000261, -6.0256180759974995, 11.395512066001174, 4.309927889002211, -8.693258645997958, -6.240515365997453, 12.398732062999898, 11.938742417000867, 2.7418436410025606, 8.007072491499457, 7.965003474999776, 4.457930597500763], \"colorbar\": {\"thickness\": 15, \"xanchor\": \"left\", \"titleside\": \"right\", \"title\": \"Testing\"}, \"showscale\": true, \"line\": {\"width\": 2}, \"cmax\": 12.398732062999898, \"size\": 20}, \"mode\": \"markers\", \"hoverinfo\": \"text\", \"y\": [0.2474670628126142, 0.004610991845476047, 0.2019872194374435, 0.5949475841310117, 0.4181019914702241, 0.8617966488323395, 0.5383145704578761, 0.6736348910712314, 0.6516503079082471, 0.41405028150987905, 0.41803127966187303, 0.0], \"x\": [0.072353229864507, 0.10073515669210782, 0.9683141154773641, 0.9650512946889813, 0.1820476147941607, 0.2357673722928974, 0.10199287049419935, 0.17340319557275177, 0.0, 1.0, 0.01844291833838328, 0.8353392281809753], \"type\": \"scatter\"}], {\"showlegend\": false, \"yaxis\": {\"zeroline\": false, \"showticklabels\": false, \"showgrid\": false}, \"title\": \"<br>Network Plot\", \"titlefont\": {\"size\": 16}, \"xaxis\": {\"zeroline\": false, \"showticklabels\": false, \"showgrid\": false}, \"hovermode\": \"closest\", \"margin\": {\"r\": 5, \"b\": 20, \"t\": 40, \"l\": 5}, \"annotations\": [{\"xref\": \"x1\", \"arrowhead\": 8, \"yref\": \"y1\", \"text\": \"K27A\", \"arrowsize\": 0.4, \"y\": 0.2474670628126142, \"x\": 0.072353229864507, \"font\": {\"size\": 14}, \"showarrow\": true}, {\"xref\": \"x1\", \"arrowhead\": 8, \"yref\": \"y1\", \"text\": \"D54A\", \"arrowsize\": 0.4, \"y\": 0.004610991845476047, \"x\": 0.10073515669210782, \"font\": {\"size\": 14}, \"showarrow\": true}, {\"xref\": \"x1\", \"arrowhead\": 8, \"yref\": \"y1\", \"text\": \"R59A\", \"arrowsize\": 0.4, \"y\": 0.2019872194374435, \"x\": 0.9683141154773641, \"font\": {\"size\": 14}, \"showarrow\": true}, {\"xref\": \"x1\", \"arrowhead\": 8, \"yref\": \"y1\", \"text\": \"K62A\", \"arrowsize\": 0.4, \"y\": 0.5949475841310117, \"x\": 0.9650512946889813, \"font\": {\"size\": 14}, \"showarrow\": true}, {\"xref\": \"x1\", \"arrowhead\": 8, \"yref\": \"y1\", \"text\": \"E73A\", \"arrowsize\": 0.4, \"y\": 0.4181019914702241, \"x\": 0.1820476147941607, \"font\": {\"size\": 14}, \"showarrow\": true}, {\"xref\": \"x1\", \"arrowhead\": 8, \"yref\": \"y1\", \"text\": \"D75A\", \"arrowsize\": 0.4, \"y\": 0.8617966488323395, \"x\": 0.2357673722928974, \"font\": {\"size\": 14}, \"showarrow\": true}, {\"xref\": \"x1\", \"arrowhead\": 8, \"yref\": \"y1\", \"text\": \"R83A\", \"arrowsize\": 0.4, \"y\": 0.5383145704578761, \"x\": 0.10199287049419935, \"font\": {\"size\": 14}, \"showarrow\": true}, {\"xref\": \"x1\", \"arrowhead\": 8, \"yref\": \"y1\", \"text\": \"R87A\", \"arrowsize\": 0.4, \"y\": 0.6736348910712314, \"x\": 0.17340319557275177, \"font\": {\"size\": 14}, \"showarrow\": true}, {\"xref\": \"x1\", \"arrowhead\": 8, \"yref\": \"y1\", \"text\": \"H102A\", \"arrowsize\": 0.4, \"y\": 0.6516503079082471, \"x\": 0.0, \"font\": {\"size\": 14}, \"showarrow\": true}, {\"xref\": \"x1\", \"arrowhead\": 8, \"yref\": \"y1\", \"text\": \"D145B\", \"arrowsize\": 0.4, \"y\": 0.41405028150987905, \"x\": 1.0, \"font\": {\"size\": 14}, \"showarrow\": true}, {\"xref\": \"x1\", \"arrowhead\": 8, \"yref\": \"y1\", \"text\": \"D149B\", \"arrowsize\": 0.4, \"y\": 0.41803127966187303, \"x\": 0.01844291833838328, \"font\": {\"size\": 14}, \"showarrow\": true}, {\"xref\": \"x1\", \"arrowhead\": 8, \"yref\": \"y1\", \"text\": \"E186B\", \"arrowsize\": 0.4, \"y\": 0.0, \"x\": 0.8353392281809753, \"font\": {\"size\": 14}, \"showarrow\": true}]}, {\"displayModeBar\": \"True\"})</script>'"
      ]
     },
     "execution_count": 49,
     "metadata": {},
     "output_type": "execute_result"
    }
   ],
   "source": [
    "script_text"
   ]
  },
  {
   "cell_type": "code",
   "execution_count": 31,
   "metadata": {
    "collapsed": true
   },
   "outputs": [],
   "source": [
    "configkeys = (\n",
    "        'editable',\n",
    "        'autosizable',\n",
    "        'fillFrame',\n",
    "        'frameMargins',\n",
    "        'scrollZoom',\n",
    "        'doubleClick',\n",
    "        'showTips',\n",
    "        'showLink',\n",
    "        'sendData',\n",
    "        'linkText',\n",
    "        'showSources',\n",
    "        'displayModeBar',\n",
    "        'modeBarButtonsToRemove',\n",
    "        'modeBarButtonsToAdd',\n",
    "        'modeBarButtons',\n",
    "        'displaylogo',\n",
    "        'plotGlPixelRatio',\n",
    "        'setBackground',\n",
    "        'topojsonURL'\n",
    "    )"
   ]
  },
  {
   "cell_type": "code",
   "execution_count": 33,
   "metadata": {
    "collapsed": false
   },
   "outputs": [
    {
     "ename": "TypeError",
     "evalue": "list indices must be integers, not str",
     "output_type": "error",
     "traceback": [
      "\u001b[1;31m---------------------------------------------------------------------------\u001b[0m",
      "\u001b[1;31mTypeError\u001b[0m                                 Traceback (most recent call last)",
      "\u001b[1;32m<ipython-input-33-187e32953180>\u001b[0m in \u001b[0;36m<module>\u001b[1;34m()\u001b[0m\n\u001b[0;32m      1\u001b[0m \u001b[0mconfig\u001b[0m \u001b[1;33m=\u001b[0m \u001b[1;33m[\u001b[0m\u001b[1;34m'displayModeBar'\u001b[0m\u001b[1;33m]\u001b[0m\u001b[1;33m\u001b[0m\u001b[0m\n\u001b[1;32m----> 2\u001b[1;33m \u001b[0mdict\u001b[0m\u001b[1;33m(\u001b[0m\u001b[1;33m(\u001b[0m\u001b[0mk\u001b[0m\u001b[1;33m,\u001b[0m \u001b[0mconfig\u001b[0m\u001b[1;33m[\u001b[0m\u001b[0mk\u001b[0m\u001b[1;33m]\u001b[0m\u001b[1;33m)\u001b[0m \u001b[1;32mfor\u001b[0m \u001b[0mk\u001b[0m \u001b[1;32min\u001b[0m \u001b[0mconfigkeys\u001b[0m \u001b[1;32mif\u001b[0m \u001b[0mk\u001b[0m \u001b[1;32min\u001b[0m \u001b[0mconfig\u001b[0m\u001b[1;33m)\u001b[0m\u001b[1;33m\u001b[0m\u001b[0m\n\u001b[0m",
      "\u001b[1;32m<ipython-input-33-187e32953180>\u001b[0m in \u001b[0;36m<genexpr>\u001b[1;34m((k,))\u001b[0m\n\u001b[0;32m      1\u001b[0m \u001b[0mconfig\u001b[0m \u001b[1;33m=\u001b[0m \u001b[1;33m[\u001b[0m\u001b[1;34m'displayModeBar'\u001b[0m\u001b[1;33m]\u001b[0m\u001b[1;33m\u001b[0m\u001b[0m\n\u001b[1;32m----> 2\u001b[1;33m \u001b[0mdict\u001b[0m\u001b[1;33m(\u001b[0m\u001b[1;33m(\u001b[0m\u001b[0mk\u001b[0m\u001b[1;33m,\u001b[0m \u001b[0mconfig\u001b[0m\u001b[1;33m[\u001b[0m\u001b[0mk\u001b[0m\u001b[1;33m]\u001b[0m\u001b[1;33m)\u001b[0m \u001b[1;32mfor\u001b[0m \u001b[0mk\u001b[0m \u001b[1;32min\u001b[0m \u001b[0mconfigkeys\u001b[0m \u001b[1;32mif\u001b[0m \u001b[0mk\u001b[0m \u001b[1;32min\u001b[0m \u001b[0mconfig\u001b[0m\u001b[1;33m)\u001b[0m\u001b[1;33m\u001b[0m\u001b[0m\n\u001b[0m",
      "\u001b[1;31mTypeError\u001b[0m: list indices must be integers, not str"
     ]
    }
   ],
   "source": [
    "config = ['displayModeBar']\n",
    "dict((k, config[k]) for k in configkeys if k in config)"
   ]
  },
  {
   "cell_type": "code",
   "execution_count": 1,
   "metadata": {
    "collapsed": false
   },
   "outputs": [],
   "source": [
    "import pickle as p\n",
    "import networkx as nx\n",
    "from scipy.spatial.distance import pdist, squareform\n",
    "import os\n",
    "import numpy as np\n",
    "import prody as pd"
   ]
  },
  {
   "cell_type": "code",
   "execution_count": 2,
   "metadata": {
    "collapsed": false
   },
   "outputs": [
    {
     "name": "stdout",
     "output_type": "stream",
     "text": [
      "\n",
      "AESOP: Analysis of Electrostatic Structure of Proteins\n",
      "\n",
      "Reed E. S. Harrison, Rohith R. Mohan, Dimitrios Morikis\n",
      "University of California, Riverside; Department of Bioengineering\n",
      "\n",
      "Correspondence should be directed to Prof. Dimitrios Morikis at\n",
      "dmorikis@ucr.edu\n",
      "\n",
      "Copyright (C) 2016  Reed E. S. Harrison, Rohith R. Mohan, Ronald D.\n",
      "Gorham Jr., Chris A. Kieslich, Dimitrios Morikis\n",
      "\n",
      "This program is free software: you can redistribute it and/or modify\n",
      "it under the terms of the GNU General Public License as published by\n",
      "the Free Software Foundation, either version 3 of the License, or\n",
      "(at your option) any later version.\n",
      "\n",
      "This program is distributed in the hope that it will be useful,\n",
      "but WITHOUT ANY WARRANTY; without even the implied warranty of\n",
      "ERCHANTABILITY or FITNESS FOR A PARTICULAR PURPOSE.  See the\n",
      "GNU General Public License for more details.\n",
      "\n",
      "You should have received a copy of the GNU General Public License\n",
      "along with this program.  If not, see <http://www.gnu.org/licenses/>.\n",
      "\n"
     ]
    }
   ],
   "source": [
    "alascan = p.load( open( \"save.p\", \"rb\" ) )"
   ]
  },
  {
   "cell_type": "code",
   "execution_count": 3,
   "metadata": {
    "collapsed": true
   },
   "outputs": [],
   "source": [
    "from aesop_copy import plotNetwork_interactive"
   ]
  },
  {
   "cell_type": "code",
   "execution_count": 4,
   "metadata": {
    "collapsed": false
   },
   "outputs": [
    {
     "name": "stderr",
     "output_type": "stream",
     "text": [
      "@> 3159 atoms and 1 coordinate sets were parsed in 0.03s.\n",
      "DEBUG:.prody:3159 atoms and 1 coordinate sets were parsed in 0.03s.\n"
     ]
    }
   ],
   "source": [
    "plotNetwork_interactive(alascan)"
   ]
  }
 ],
 "metadata": {
  "kernelspec": {
   "display_name": "Python 2",
   "language": "python",
   "name": "python2"
  },
  "language_info": {
   "codemirror_mode": {
    "name": "ipython",
    "version": 2
   },
   "file_extension": ".py",
   "mimetype": "text/x-python",
   "name": "python",
   "nbconvert_exporter": "python",
   "pygments_lexer": "ipython2",
   "version": "2.7.11"
  }
 },
 "nbformat": 4,
 "nbformat_minor": 0
}
