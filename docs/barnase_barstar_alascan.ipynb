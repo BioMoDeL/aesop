{
 "cells": [
  {
   "cell_type": "markdown",
   "metadata": {},
   "source": [
    "# Barnase-Barstar Alascan Interactive Plotting Demo"
   ]
  },
  {
   "cell_type": "markdown",
   "metadata": {},
   "source": [
    "This notebook showcases some of the interactive plotting functions `plotScan_interactive` and `plotNetwork_interactive` in AESOP using the [Barnase-Barstar Alascan example](https://aesop.readthedocs.io/en/latest/alascan.html#example-case-barnase-barstar).The sample code below imports the relevant classes and functions to run an alanine scan and output the results using interactive plots.\n",
    "\n",
    "Before proceeding, make sure you have the python packages `plotly` and `networkx` installed as described in the [documentation](https://aesop.readthedocs.io/en/latest/installation.html)."
   ]
  },
  {
   "cell_type": "code",
   "execution_count": null,
   "metadata": {
    "collapsed": false
   },
   "outputs": [],
   "source": [
    "from aesop import alascan, plotScan_interactive, plotNetwork_interactive\n",
    "\n",
    "path_apbs    = 'path\\to\\executable\\apbs'\n",
    "path_coulomb = 'path\\to\\executable\\coulomb'\n",
    "path_pdb2pqr = 'path\\to\\executable\\pdb2pqr'\n",
    "\n",
    "jobname = 'alascan'\n",
    "pdbfile = 'barnase_barstar.pdb'\n",
    "\n",
    "selstr = ['chain A', 'chain B']\n",
    "\n",
    "alascan = Alascan(pdb=pdbfile,\n",
    "                  pdb2pqr_exe=path_pdb2pqr,\n",
    "                  apbs_exe=path_apbs,\n",
    "                  coulomb_exe=path_coulomb,\n",
    "                  jobname=jobname,\n",
    "                  selstr=selstr,\n",
    "                  minim=False)\n",
    "\n",
    "alascan = Alascan(pdb=pdbfile, jobname=jobname, selstr=selstr)\n",
    "alascan.run()"
   ]
  },
  {
   "cell_type": "markdown",
   "metadata": {},
   "source": [
    "Once Alascan is instantiated and finished running, we can plot the results. The `plotScan_interactive` function by default, outputs the results in an html file and opens it up in your browser. However, if you are using a [notebook](https://jupyter.org/) to view it, you can display the plot inline by passing the argument `display_output='notebook'` to the function. Here we display it in the notebook so that it's easier to view alongside the code."
   ]
  },
  {
   "cell_type": "code",
   "execution_count": 2,
   "metadata": {
    "collapsed": false
   },
   "outputs": [
    {
     "name": "stdout",
     "output_type": "stream",
     "text": [
      "This is the format of your plot grid:\n",
      "[ (1,1) x1,y1 ]\n",
      "[ (2,1) x2,y2 ]\n",
      "\n"
     ]
    },
    {
     "data": {
      "text/html": [
       "<script>requirejs.config({paths: { 'plotly': ['https://cdn.plot.ly/plotly-latest.min']},});if(!window.Plotly) {{require(['plotly'],function(plotly) {window.Plotly=plotly;});}}</script>"
      ],
      "text/plain": [
       "<IPython.core.display.HTML object>"
      ]
     },
     "metadata": {},
     "output_type": "display_data"
    },
    {
     "data": {
      "text/html": [
       "<div id=\"6a11365a-e281-464f-bf0b-7d53cb9a841f\" style=\"height: 525px; width: 100%;\" class=\"plotly-graph-div\"></div><script type=\"text/javascript\">require([\"plotly\"], function(Plotly) { window.PLOTLYENV=window.PLOTLYENV || {};window.PLOTLYENV.BASE_URL=\"https://plot.ly\";Plotly.newPlot(\"6a11365a-e281-464f-bf0b-7d53cb9a841f\", [{\"name\": \"seg2Loss of binding\", \"yaxis\": \"y2\", \"marker\": {\"color\": \"rgba(0,136,55,1)\"}, \"xaxis\": \"x2\", \"y\": [0.0, 0.0, 0.0, 0.0, 0.0, 0.0, 0.7695115210012773, 0.05680715150083415, 0.016111710501263588, 0.0, 0.0, 8.007072491499457, 7.965003474999776, 1.0247019069997805, 0.01810962050103626, 0.0, 0.0, 0.1308194415005346, 0.0, 0.0, 0.0, 4.457930597500763, 0.0, 1.8718520509996779, 0.21543960850067378], \"x\": [\"K111A\", \"K112A\", \"E118A\", \"R121A\", \"D125A\", \"H127A\", \"K131A\", \"K132A\", \"E133A\", \"E138A\", \"E142A\", \"D145A\", \"D149A\", \"E156A\", \"E162A\", \"R164A\", \"E167A\", \"K170A\", \"E174A\", \"E178A\", \"R185A\", \"E186A\", \"K188A\", \"E190A\", \"D193A\"], \"type\": \"bar\"}, {\"name\": \"seg2Gain in binding\", \"yaxis\": \"y2\", \"marker\": {\"color\": \"rgba(123,50,148,1)\"}, \"xaxis\": \"x2\", \"y\": [-0.1393118834980669, -0.07593486349787781, -0.011110868998912338, -0.0027257994993306056, -0.1803566700000374, -0.43456998249939716, 0.0, 0.0, 0.0, -0.33755397700087997, -1.0514667019992885, 0.0, 0.0, 0.0, 0.0, -0.025026396000612294, -0.11408992249880612, 0.0, -0.24534494049976274, -0.0028493115005403524, -0.2197733869984404, 0.0, -0.15032395349999206, 0.0, 0.0], \"x\": [\"K111A\", \"K112A\", \"E118A\", \"R121A\", \"D125A\", \"H127A\", \"K131A\", \"K132A\", \"E133A\", \"E138A\", \"E142A\", \"D145A\", \"D149A\", \"E156A\", \"E162A\", \"R164A\", \"E167A\", \"K170A\", \"E174A\", \"E178A\", \"R185A\", \"E186A\", \"K188A\", \"E190A\", \"D193A\"], \"type\": \"bar\"}, {\"name\": \"seg1Loss of binding\", \"yaxis\": \"y1\", \"marker\": {\"color\": \"rgba(0,136,55,1)\"}, \"xaxis\": \"x1\", \"y\": [0.0, 0.0, 0.0522246420018746, 0.49534070699928634, 0.0, 12.127635905000261, 0.0, 2.49694908200172, 0.0, 0.7438013910023074, 0.0, 11.395512066001174, 0.0, 4.309927889002211, 0.32053816500138055, 1.070254391002436, 2.1624231930009046, 0.0, 0.0, 12.398732062999898, 0.0, 11.938742417000867, 0.0, 0.9453173760007303, 0.0, 2.7418436410025606, 0.7281850720019065, 0.5910445630015602], \"x\": [\"D8A\", \"D12A\", \"H18A\", \"K19A\", \"D22A\", \"K27A\", \"E29A\", \"K39A\", \"D44A\", \"K49A\", \"D54A\", \"R59A\", \"E60A\", \"K62A\", \"K66A\", \"R69A\", \"R72A\", \"E73A\", \"D75A\", \"R83A\", \"D86A\", \"R87A\", \"D93A\", \"K98A\", \"D101A\", \"H102A\", \"K108A\", \"R110A\"], \"type\": \"bar\"}, {\"name\": \"seg1Gain in binding\", \"yaxis\": \"y1\", \"marker\": {\"color\": \"rgba(123,50,148,1)\"}, \"xaxis\": \"x1\", \"y\": [-0.5380702739989829, -0.5087852639994708, 0.0, 0.0, -0.5884390159981194, 0.0, -1.6227690649980104, 0.0, -0.9267104799982917, 0.0, -6.0256180759974995, 0.0, -1.945486947999143, 0.0, 0.0, 0.0, 0.0, -8.693258645997958, -6.240515365997453, 0.0, -1.8772483189991362, 0.0, -0.7839759379962743, 0.0, -2.408801931999278, 0.0, 0.0, 0.0], \"x\": [\"D8A\", \"D12A\", \"H18A\", \"K19A\", \"D22A\", \"K27A\", \"E29A\", \"K39A\", \"D44A\", \"K49A\", \"D54A\", \"R59A\", \"E60A\", \"K62A\", \"K66A\", \"R69A\", \"R72A\", \"E73A\", \"D75A\", \"R83A\", \"D86A\", \"R87A\", \"D93A\", \"K98A\", \"D101A\", \"H102A\", \"K108A\", \"R110A\"], \"type\": \"bar\"}], {\"yaxis1\": {\"domain\": [0.625, 1.0], \"anchor\": \"x1\", \"title\": \"kJ/mol\"}, \"xaxis2\": {\"domain\": [0.0, 1.0], \"anchor\": \"y2\"}, \"xaxis1\": {\"domain\": [0.0, 1.0], \"anchor\": \"y1\"}, \"barmode\": \"stack\", \"yaxis2\": {\"domain\": [0.0, 0.375], \"anchor\": \"x2\", \"title\": \"kJ/mol\"}, \"hovermode\": \"closest\", \"annotations\": [{\"yanchor\": \"bottom\", \"xref\": \"paper\", \"xanchor\": \"center\", \"yref\": \"paper\", \"text\": \"seg1 ddGa relative to WT\", \"y\": 1.0, \"x\": 0.5, \"font\": {\"size\": 16}, \"showarrow\": false}, {\"yanchor\": \"bottom\", \"xref\": \"paper\", \"xanchor\": \"center\", \"yref\": \"paper\", \"text\": \"seg2 ddGa relative to WT\", \"y\": 0.375, \"x\": 0.5, \"font\": {\"size\": 16}, \"showarrow\": false}]}, {\"linkText\": \"Export to plot.ly\", \"showLink\": true})});</script>"
      ],
      "text/plain": [
       "<IPython.core.display.HTML object>"
      ]
     },
     "metadata": {},
     "output_type": "display_data"
    }
   ],
   "source": [
    "plotScan_interactive(alascan,display_output='notebook')\n",
    "#If you are not using a notebook to run your code then use the code below instead:\n",
    "#plotScan_interactive(alascan)"
   ]
  },
  {
   "cell_type": "markdown",
   "metadata": {
    "collapsed": false
   },
   "source": [
    "The `plotScan_interactive` function displays a bar plot similar to `plotScan` but now hovering over specific bars displays the corresponding asssociation/solvation free energy values. Additionally, clicking and dragging in the plot allows you to zoom in a subset of values. The plotly modebar in the top right has additional options such as  zoom, autoscale and saving as a static image.\n",
    "\n",
    "\n",
    "\n",
    "`plotNetwork_interactive` provides similar functionality but for network plots."
   ]
  },
  {
   "cell_type": "code",
   "execution_count": 3,
   "metadata": {
    "collapsed": false
   },
   "outputs": [
    {
     "name": "stderr",
     "output_type": "stream",
     "text": [
      "@> 3159 atoms and 1 coordinate sets were parsed in 0.03s.\n",
      "DEBUG:.prody:3159 atoms and 1 coordinate sets were parsed in 0.03s.\n"
     ]
    },
    {
     "data": {
      "text/html": [
       "<script>requirejs.config({paths: { 'plotly': ['https://cdn.plot.ly/plotly-latest.min']},});if(!window.Plotly) {{require(['plotly'],function(plotly) {window.Plotly=plotly;});}}</script>"
      ],
      "text/plain": [
       "<IPython.core.display.HTML object>"
      ]
     },
     "metadata": {},
     "output_type": "display_data"
    },
    {
     "data": {
      "text/html": [
       "<div id=\"def0e671-ef8f-4fa0-acb5-8659f2ad9615\" style=\"height: 525px; width: 100%;\" class=\"plotly-graph-div\"></div><script type=\"text/javascript\">require([\"plotly\"], function(Plotly) { window.PLOTLYENV=window.PLOTLYENV || {};window.PLOTLYENV.BASE_URL=\"https://plot.ly\";Plotly.newPlot(\"def0e671-ef8f-4fa0-acb5-8659f2ad9615\", [{\"mode\": \"lines\", \"hoverinfo\": \"none\", \"y\": [0.004890107020762857, 0.0, null, 0.004890107020762857, 0.15485904903650566, null, 0.004890107020762857, 0.033983445806908666, null, 0.004890107020762857, 0.16531123612115103, null, 0.9520784113012799, 1.0, null, 0.9520784113012799, 0.8062332788137662, null, 0.9762715760611246, 1.0, null, 0.033983445806908666, 0.15485904903650566, null, 0.033983445806908666, 0.16531123612115103, null, 0.033983445806908666, 0.2050395818218957, null, 0.31719608621679374, 0.16531123612115103, null, 0.31719608621679374, 0.2050395818218957, null, 0.16531123612115103, 0.2050395818218957, null, 0.16531123612115103, 0.3568176118135678, null, 0.16531123612115103, 0.15485904903650566, null, 0.2050395818218957, 0.3568176118135678, null, 0.2050395818218957, 0.15485904903650566, null, 0.3568176118135678, 0.15485904903650566, null], \"x\": [0.3839275483638322, 0.1515324131534661, null, 0.3839275483638322, 0.47003528747417, null, 0.3839275483638322, 0.5803596319002765, null, 0.3839275483638322, 0.6202931175859612, null, 0.20015230869171202, 0.41419845584391707, null, 0.20015230869171202, 0.0, null, 0.6005950692160636, 0.41419845584391707, null, 0.5803596319002765, 0.47003528747417, null, 0.5803596319002765, 0.6202931175859612, null, 0.5803596319002765, 0.7515757255604599, null, 0.9082552532377731, 0.6202931175859612, null, 0.9082552532377731, 0.7515757255604599, null, 0.6202931175859612, 0.7515757255604599, null, 0.6202931175859612, 0.6371988142681511, null, 0.6202931175859612, 0.47003528747417, null, 0.7515757255604599, 0.6371988142681511, null, 0.7515757255604599, 0.47003528747417, null, 0.6371988142681511, 0.47003528747417, null], \"line\": {\"color\": \"#888\", \"width\": 0.5}, \"type\": \"scatter\"}, {\"text\": [\"12.13 kJ/mol\", \"-6.03 kJ/mol\", \"11.40 kJ/mol\", \"4.31 kJ/mol\", \"-8.69 kJ/mol\", \"-6.24 kJ/mol\", \"12.40 kJ/mol\", \"11.94 kJ/mol\", \"2.74 kJ/mol\", \"8.01 kJ/mol\", \"7.97 kJ/mol\", \"4.46 kJ/mol\"], \"marker\": {\"reversescale\": true, \"cmin\": -12.398732062999898, \"colorscale\": \"RdBu\", \"color\": [12.127635905000261, -6.0256180759974995, 11.395512066001174, 4.309927889002211, -8.693258645997958, -6.240515365997453, 12.398732062999898, 11.938742417000867, 2.7418436410025606, 8.007072491499457, 7.965003474999776, 4.457930597500763], \"colorbar\": {\"thickness\": 15, \"xanchor\": \"left\", \"titleside\": \"right\", \"title\": \"ddG (kJ/mol)\"}, \"showscale\": true, \"line\": {\"width\": 2}, \"cmax\": 12.398732062999898, \"size\": 20}, \"mode\": \"markers\", \"hoverinfo\": \"text\", \"y\": [0.004890107020762857, 0.0, 0.9520784113012799, 0.9762715760611246, 0.033983445806908666, 0.31719608621679374, 0.16531123612115103, 0.2050395818218957, 0.3568176118135678, 1.0, 0.15485904903650566, 0.8062332788137662], \"x\": [0.3839275483638322, 0.1515324131534661, 0.20015230869171202, 0.6005950692160636, 0.5803596319002765, 0.9082552532377731, 0.6202931175859612, 0.7515757255604599, 0.6371988142681511, 0.41419845584391707, 0.47003528747417, 0.0], \"type\": \"scatter\"}], {\"showlegend\": false, \"yaxis\": {\"zeroline\": false, \"showticklabels\": false, \"showgrid\": false}, \"title\": \"<br>Network Plot\", \"titlefont\": {\"size\": 16}, \"xaxis\": {\"zeroline\": false, \"showticklabels\": false, \"showgrid\": false}, \"hovermode\": \"closest\", \"margin\": {\"r\": 5, \"b\": 20, \"t\": 40, \"l\": 5}, \"annotations\": [{\"xref\": \"x1\", \"yref\": \"y1\", \"text\": \"K27A\", \"arrowsize\": 0.4, \"y\": 0.004890107020762857, \"x\": 0.3839275483638322, \"font\": {\"size\": 14}, \"showarrow\": true}, {\"xref\": \"x1\", \"yref\": \"y1\", \"text\": \"D54A\", \"arrowsize\": 0.4, \"y\": 0.0, \"x\": 0.1515324131534661, \"font\": {\"size\": 14}, \"showarrow\": true}, {\"xref\": \"x1\", \"yref\": \"y1\", \"text\": \"R59A\", \"arrowsize\": 0.4, \"y\": 0.9520784113012799, \"x\": 0.20015230869171202, \"font\": {\"size\": 14}, \"showarrow\": true}, {\"xref\": \"x1\", \"yref\": \"y1\", \"text\": \"K62A\", \"arrowsize\": 0.4, \"y\": 0.9762715760611246, \"x\": 0.6005950692160636, \"font\": {\"size\": 14}, \"showarrow\": true}, {\"xref\": \"x1\", \"yref\": \"y1\", \"text\": \"E73A\", \"arrowsize\": 0.4, \"y\": 0.033983445806908666, \"x\": 0.5803596319002765, \"font\": {\"size\": 14}, \"showarrow\": true}, {\"xref\": \"x1\", \"yref\": \"y1\", \"text\": \"D75A\", \"arrowsize\": 0.4, \"y\": 0.31719608621679374, \"x\": 0.9082552532377731, \"font\": {\"size\": 14}, \"showarrow\": true}, {\"xref\": \"x1\", \"yref\": \"y1\", \"text\": \"R83A\", \"arrowsize\": 0.4, \"y\": 0.16531123612115103, \"x\": 0.6202931175859612, \"font\": {\"size\": 14}, \"showarrow\": true}, {\"xref\": \"x1\", \"yref\": \"y1\", \"text\": \"R87A\", \"arrowsize\": 0.4, \"y\": 0.2050395818218957, \"x\": 0.7515757255604599, \"font\": {\"size\": 14}, \"showarrow\": true}, {\"xref\": \"x1\", \"yref\": \"y1\", \"text\": \"H102A\", \"arrowsize\": 0.4, \"y\": 0.3568176118135678, \"x\": 0.6371988142681511, \"font\": {\"size\": 14}, \"showarrow\": true}, {\"xref\": \"x1\", \"yref\": \"y1\", \"text\": \"D145B\", \"arrowsize\": 0.4, \"y\": 1.0, \"x\": 0.41419845584391707, \"font\": {\"size\": 14}, \"showarrow\": true}, {\"xref\": \"x1\", \"yref\": \"y1\", \"text\": \"D149B\", \"arrowsize\": 0.4, \"y\": 0.15485904903650566, \"x\": 0.47003528747417, \"font\": {\"size\": 14}, \"showarrow\": true}, {\"xref\": \"x1\", \"yref\": \"y1\", \"text\": \"E186B\", \"arrowsize\": 0.4, \"y\": 0.8062332788137662, \"x\": 0.0, \"font\": {\"size\": 14}, \"showarrow\": true}]}, {\"linkText\": \"Export to plot.ly\", \"showLink\": true})});</script>"
      ],
      "text/plain": [
       "<IPython.core.display.HTML object>"
      ]
     },
     "metadata": {},
     "output_type": "display_data"
    }
   ],
   "source": [
    "plotNetwork_interactive(alascan,display_output='notebook')\n",
    "#If you are not using a notebook to run your code then use the code below instead:\n",
    "#plotNetwork_interactive(alascan)"
   ]
  },
  {
   "cell_type": "markdown",
   "metadata": {
    "collapsed": true
   },
   "source": []
  }
 ],
 "metadata": {
  "kernelspec": {
   "display_name": "Python 2",
   "language": "python",
   "name": "python2"
  },
  "language_info": {
   "codemirror_mode": {
    "name": "ipython",
    "version": 2
   },
   "file_extension": ".py",
   "mimetype": "text/x-python",
   "name": "python",
   "nbconvert_exporter": "python",
   "pygments_lexer": "ipython2",
   "version": "2.7.11"
  }
 },
 "nbformat": 4,
 "nbformat_minor": 0
}
